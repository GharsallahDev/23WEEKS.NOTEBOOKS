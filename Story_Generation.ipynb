{
 "cells": [
  {
   "cell_type": "code",
   "execution_count": 1,
   "id": "9d618ad9-4120-4219-aa99-1da9be8c3932",
   "metadata": {},
   "outputs": [
    {
     "name": "stdout",
     "output_type": "stream",
     "text": [
      "Requirement already satisfied: openai in c:\\users\\trabe\\anaconda3\\lib\\site-packages (0.28.0)\n",
      "Collecting openai\n",
      "  Downloading openai-1.40.1-py3-none-any.whl.metadata (22 kB)\n",
      "Requirement already satisfied: anyio<5,>=3.5.0 in c:\\users\\trabe\\anaconda3\\lib\\site-packages (from openai) (4.2.0)\n",
      "Requirement already satisfied: distro<2,>=1.7.0 in c:\\users\\trabe\\anaconda3\\lib\\site-packages (from openai) (1.9.0)\n",
      "Requirement already satisfied: httpx<1,>=0.23.0 in c:\\users\\trabe\\anaconda3\\lib\\site-packages (from openai) (0.26.0)\n",
      "Collecting jiter<1,>=0.4.0 (from openai)\n",
      "  Downloading jiter-0.5.0-cp312-none-win_amd64.whl.metadata (3.7 kB)\n",
      "Requirement already satisfied: pydantic<3,>=1.9.0 in c:\\users\\trabe\\anaconda3\\lib\\site-packages (from openai) (2.8.2)\n",
      "Requirement already satisfied: sniffio in c:\\users\\trabe\\anaconda3\\lib\\site-packages (from openai) (1.3.0)\n",
      "Requirement already satisfied: tqdm>4 in c:\\users\\trabe\\anaconda3\\lib\\site-packages (from openai) (4.66.4)\n",
      "Requirement already satisfied: typing-extensions<5,>=4.11 in c:\\users\\trabe\\anaconda3\\lib\\site-packages (from openai) (4.11.0)\n",
      "Requirement already satisfied: idna>=2.8 in c:\\users\\trabe\\anaconda3\\lib\\site-packages (from anyio<5,>=3.5.0->openai) (3.7)\n",
      "Requirement already satisfied: certifi in c:\\users\\trabe\\anaconda3\\lib\\site-packages (from httpx<1,>=0.23.0->openai) (2024.7.4)\n",
      "Requirement already satisfied: httpcore==1.* in c:\\users\\trabe\\anaconda3\\lib\\site-packages (from httpx<1,>=0.23.0->openai) (1.0.2)\n",
      "Requirement already satisfied: h11<0.15,>=0.13 in c:\\users\\trabe\\anaconda3\\lib\\site-packages (from httpcore==1.*->httpx<1,>=0.23.0->openai) (0.14.0)\n",
      "Requirement already satisfied: annotated-types>=0.4.0 in c:\\users\\trabe\\anaconda3\\lib\\site-packages (from pydantic<3,>=1.9.0->openai) (0.6.0)\n",
      "Requirement already satisfied: pydantic-core==2.20.1 in c:\\users\\trabe\\anaconda3\\lib\\site-packages (from pydantic<3,>=1.9.0->openai) (2.20.1)\n",
      "Requirement already satisfied: colorama in c:\\users\\trabe\\anaconda3\\lib\\site-packages (from tqdm>4->openai) (0.4.6)\n",
      "Downloading openai-1.40.1-py3-none-any.whl (360 kB)\n",
      "   ---------------------------------------- 0.0/360.4 kB ? eta -:--:--\n",
      "   ---- ----------------------------------- 41.0/360.4 kB ? eta -:--:--\n",
      "   ---------------------- ----------------- 204.8/360.4 kB 3.1 MB/s eta 0:00:01\n",
      "   ---------------------------------------- 360.4/360.4 kB 3.2 MB/s eta 0:00:00\n",
      "Downloading jiter-0.5.0-cp312-none-win_amd64.whl (189 kB)\n",
      "   ---------------------------------------- 0.0/189.7 kB ? eta -:--:--\n",
      "   ---------------------------------------- 189.7/189.7 kB ? eta 0:00:00\n",
      "Installing collected packages: jiter, openai\n",
      "  Attempting uninstall: openai\n",
      "    Found existing installation: openai 0.28.0\n",
      "    Uninstalling openai-0.28.0:\n",
      "      Successfully uninstalled openai-0.28.0\n",
      "Successfully installed jiter-0.5.0 openai-1.40.1\n",
      "Note: you may need to restart the kernel to use updated packages.\n"
     ]
    },
    {
     "name": "stderr",
     "output_type": "stream",
     "text": [
      "\n",
      "[notice] A new release of pip is available: 24.1.2 -> 24.2\n",
      "[notice] To update, run: python.exe -m pip install --upgrade pip\n"
     ]
    }
   ],
   "source": [
    "pip install --upgrade openai"
   ]
  },
  {
   "cell_type": "code",
   "execution_count": 25,
   "id": "19ff7014-2070-4296-b08a-a6a8dd1e1a5b",
   "metadata": {},
   "outputs": [
    {
     "name": "stdout",
     "output_type": "stream",
     "text": [
      "Enter a story topic:  princess\n"
     ]
    },
    {
     "name": "stdout",
     "output_type": "stream",
     "text": [
      "\n",
      "Here is your story:\n",
      "\n",
      "ChatCompletionMessage(content='**Title: Princess Lila and the Rainbow Quest**\\n\\nOnce upon a time, in a sparkling kingdom high above the clouds, there lived a kind and brave princess named Lila. She had glimmering golden hair that shone like the sun and eyes as blue as the summer sky. Every day, Princess Lila explored her enchanted garden, where colorful flowers danced gently in the breeze and butterflies flitted about like little fairies.\\n\\nOne sunny morning, as Princess Lila wandered through her garden, she came across a peculiar sight. A tiny, shimmering rainbow appeared, stretching across the sky. It sparkled in all the colors of the world—red, orange, yellow, green, blue, indigo, and violet. Princess Lila gasped with delight and decided she must find the end of the rainbow!\\n\\nGathering her courage, she called for her fluttering friend, Bella the butterfly. “Will you come along on my adventure, Bella?” she asked with a sparkle in her eyes.\\n\\n“Of course, dear Princess Lila!” Bella replied, flapping her delicate wings. “Let’s discover where the rainbow leads!”\\n\\nOff they went, hopping across the soft, fluffy clouds that floated lazily by. As they traveled, Princess Lila sang a sweet melody that echoed in the sky. “Oh, what a magical day, oh, what a wondrous way!”\\n\\nBefore long, they came upon a village of fluffy cloud-puffs where giggling cloud children played and danced. The cloud children waved at Lila and Bella, their laughter ringing sweetly in the air.\\n\\n“Hello, Princess Lila! What brings you here?” one little cloud-child asked, his hair puffy like cotton candy.\\n\\n“I’m following the rainbow to discover its end! Have you seen it?” she inquired.\\n\\nThe cloud children giggled. “Oh yes! The rainbow leads to the Magical Crystal Cave! But beware, for you must be brave and kind to reach it!”\\n\\nWith newfound determination, Princess Lila thanked the children and continued her journey. Bella zipped alongside her, encouraging her with little flutters of her wings. “You can do it, Princess Lila! Just remember to be brave and kind!”\\n\\nAt last, after a delightful hop and skip, Princess Lila and Bella found the entrance to the Magical Crystal Cave. The cave sparkled with beautiful crystals that lit up in every shade of the rainbow! However, they also saw that the cave was guarded by a gentle dragon called Dazzle, who had shimmering scales that changed color like a prism.\\n\\n“Hello, Princess Lila and Bella,” Dazzle said with a warm smile. “To enter the cave, you must answer my riddle.”\\n\\n“Oh, I love riddles!” said Princess Lila excitedly. “What is your riddle, dear Dazzle?”\\n\\nDazzle took a deep breath and asked, “I am not alive, but I grow. I don’t have lungs, but I need air. What am I?”\\n\\nPrincess Lila thought hard, her brow furrowing in concentration. After a moment, she exclaimed, “I know! It’s fire!”\\n\\n“Very clever!” Dazzle beamed, stepping aside to let them pass. “You may enter the cave.”\\n\\nInside, the cave was even more beautiful than Princess Lila had imagined. The crystals glowed brightly, illuminating a treasure unlike any in the kingdom. At the very center lay a magnificent crystal, swirling with all the colors of the rainbow.\\n\\n“This is the Rainbow Crystal,” Bella whispered in awe. “It’s said to hold the magic of all the colors, bringing joy and laughter wherever it shines.”\\n\\nWith a heart full of joy, Princess Lila reached out and touched the crystal. It sparkled even brighter, and soon, a warm, radiant light filled the cave.\\n\\nSuddenly, a soft voice filled the air. “Thank you, brave Princess, for your kindness and courage. You have unlocked the magic of the Rainbow Crystal. Take a piece of its glow back to your kingdom and share it!”\\n\\nAnd so, Princess Lila carefully took a small, glowing crystal and thanked Dazzle and the cave. With Bella by her side, they hopped back across the clouds, singing and celebrating their adventure.\\n\\nWhen she returned to her kingdom, the crystal glowed brightly in the castle courtyard. Every time the sun shone, the colors of the rainbow danced throughout the kingdom, bringing happiness to everyone. People came from far and wide to feel the joy the Rainbow Crystal shared.\\n\\nFrom that day forward, Princess Lila knew that with bravery, kindness, and a heart full of wonder, she could brighten the world around her. And so, she continued to explore, share, and spread joy wherever her adventures took her.\\n\\nAnd who knows, dear little one, perhaps one day you too will embark on your very own magical quest!\\n\\n**The End.**', refusal=None, role='assistant', function_call=None, tool_calls=None)\n"
     ]
    }
   ],
   "source": [
    "from openai import OpenAI\n",
    "\n",
    "# Initialize the OpenAI client\n",
    "client = OpenAI(api_key='our-secret-api-key-here-by-Harissa-sorry-we-cant-share-it')\n",
    "\n",
    "def generate_story(topic):\n",
    "    messages = [\n",
    "        {\"role\": \"system\", \"content\": \"You are a creative storyteller who crafts engaging and educational stories for kids.\"},\n",
    "        {\"role\": \"user\", \"content\": f\"Compose a children's story about {topic} for a pregnant woman to read to her fetus.\"}\n",
    "    ]\n",
    "    \n",
    "    completion = client.chat.completions.create(\n",
    "        model=\"gpt-4o-mini\",\n",
    "        messages=messages\n",
    "    )\n",
    "    \n",
    "    story = completion.choices[0].message\n",
    "    return story\n",
    "\n",
    "# Prompt the user to enter a topic\n",
    "topic = input(\"Enter a story topic: \")\n",
    "\n",
    "# Check if the topic is not empty\n",
    "if topic:\n",
    "    # Generate the story\n",
    "    story = generate_story(topic)\n",
    "    # Display the generated story\n",
    "    print(\"\\nHere is your story:\\n\")\n",
    "    print(story)\n",
    "else:\n",
    "    print(\"Please enter a topic.\")\n"
   ]
  },
  {
   "cell_type": "code",
   "execution_count": 55,
   "id": "c731a7f9-0f6d-4edb-a15f-497f05cf7202",
   "metadata": {},
   "outputs": [
    {
     "name": "stdout",
     "output_type": "stream",
     "text": [
      "Requirement already satisfied: elevenlabs in c:\\users\\trabe\\anaconda3\\lib\\site-packages (1.6.1)\n",
      "Requirement already satisfied: httpx>=0.21.2 in c:\\users\\trabe\\anaconda3\\lib\\site-packages (from elevenlabs) (0.26.0)\n",
      "Requirement already satisfied: pydantic>=1.9.2 in c:\\users\\trabe\\anaconda3\\lib\\site-packages (from elevenlabs) (2.8.2)\n",
      "Requirement already satisfied: pydantic-core<3.0.0,>=2.18.2 in c:\\users\\trabe\\anaconda3\\lib\\site-packages (from elevenlabs) (2.20.1)\n",
      "Requirement already satisfied: requests>=2.20 in c:\\users\\trabe\\anaconda3\\lib\\site-packages (from elevenlabs) (2.32.2)\n",
      "Requirement already satisfied: typing_extensions>=4.0.0 in c:\\users\\trabe\\anaconda3\\lib\\site-packages (from elevenlabs) (4.11.0)\n",
      "Requirement already satisfied: websockets>=11.0 in c:\\users\\trabe\\anaconda3\\lib\\site-packages (from elevenlabs) (12.0)\n",
      "Requirement already satisfied: anyio in c:\\users\\trabe\\anaconda3\\lib\\site-packages (from httpx>=0.21.2->elevenlabs) (4.2.0)\n",
      "Requirement already satisfied: certifi in c:\\users\\trabe\\anaconda3\\lib\\site-packages (from httpx>=0.21.2->elevenlabs) (2024.7.4)\n",
      "Requirement already satisfied: httpcore==1.* in c:\\users\\trabe\\anaconda3\\lib\\site-packages (from httpx>=0.21.2->elevenlabs) (1.0.2)\n",
      "Requirement already satisfied: idna in c:\\users\\trabe\\anaconda3\\lib\\site-packages (from httpx>=0.21.2->elevenlabs) (3.7)\n",
      "Requirement already satisfied: sniffio in c:\\users\\trabe\\anaconda3\\lib\\site-packages (from httpx>=0.21.2->elevenlabs) (1.3.0)\n",
      "Requirement already satisfied: h11<0.15,>=0.13 in c:\\users\\trabe\\anaconda3\\lib\\site-packages (from httpcore==1.*->httpx>=0.21.2->elevenlabs) (0.14.0)\n",
      "Requirement already satisfied: annotated-types>=0.4.0 in c:\\users\\trabe\\anaconda3\\lib\\site-packages (from pydantic>=1.9.2->elevenlabs) (0.6.0)\n",
      "Requirement already satisfied: charset-normalizer<4,>=2 in c:\\users\\trabe\\anaconda3\\lib\\site-packages (from requests>=2.20->elevenlabs) (2.0.4)\n",
      "Requirement already satisfied: urllib3<3,>=1.21.1 in c:\\users\\trabe\\anaconda3\\lib\\site-packages (from requests>=2.20->elevenlabs) (2.2.2)\n",
      "Note: you may need to restart the kernel to use updated packages.\n"
     ]
    },
    {
     "name": "stderr",
     "output_type": "stream",
     "text": [
      "\n",
      "[notice] A new release of pip is available: 24.1.2 -> 24.2\n",
      "[notice] To update, run: python.exe -m pip install --upgrade pip\n"
     ]
    }
   ],
   "source": [
    "pip install -U elevenlabs"
   ]
  },
  {
   "cell_type": "code",
   "execution_count": 67,
   "id": "2667dad6-620b-450a-a85d-4ee1a6b95038",
   "metadata": {},
   "outputs": [],
   "source": [
    "import requests\n",
    "\n",
    "CHUNK_SIZE = 1024\n",
    "url = \"https://api.elevenlabs.io/v1/text-to-speech/<voice-id>\"\n",
    "\n",
    "headers = {\n",
    "  \"Accept\": \"audio/mpeg\",\n",
    "  \"Content-Type\": \"application/json\",\n",
    "  \"xi-api-key\": \"our-secret-api-key-here-by-Harissa-sorry-we-cant-share-it\"\n",
    "}\n",
    "\n",
    "data = {\n",
    "  \"text\": \"Born and raised in the charming south, I can add a touch of sweet southern hospitality to your audiobooks and podcasts\" , \n",
    "  \"model_id\": \"eleven_monolingual_v1\",\n",
    "  \"voice_settings\": {\n",
    "    \"stability\": 0.5,\n",
    "    \"similarity_boost\": 0.5\n",
    "  }\n",
    "}\n",
    "\n",
    "response = requests.post(url, json=data, headers=headers)\n",
    "with open('output.mp3', 'wb') as f:\n",
    "    for chunk in response.iter_content(chunk_size=CHUNK_SIZE):\n",
    "        if chunk:\n",
    "            f.write(chunk)\n"
   ]
  },
  {
   "cell_type": "code",
   "execution_count": 101,
   "id": "58841ce2-bab8-4035-88dd-6ca30af97cee",
   "metadata": {},
   "outputs": [
    {
     "name": "stdout",
     "output_type": "stream",
     "text": [
      "Audio saved as story.mp3\n"
     ]
    }
   ],
   "source": [
    "from elevenlabs import Voice\n",
    "from elevenlabs.client import ElevenLabs\n",
    "\n",
    "# Initialize the Eleven Labs client\n",
    "client = ElevenLabs(\n",
    "    api_key=\"sk_285f60eb11093ba5dbfb59b26fa8e71e3f6b4dc034367c5f\"  # Use your actual Eleven Labs API key\n",
    ")\n",
    "\n",
    "def text_to_speech(text):\n",
    "    audio = client.generate(\n",
    "    text=\"Hello! 你好! Hola! नमस्ते! Bonjour! こんにちは! مرحبا! 안녕하세요! Ciao! Cześć! Привіт! வணக்கம்!\",\n",
    "    voice=\"Rachel\",\n",
    "    model=\"eleven_multilingual_v2\"\n",
    "    )\n",
    "    return audio\n",
    "\n",
    "# Example usage\n",
    "audio = text_to_speech(story)\n",
    "\n",
    "# Save the audio to a file\n",
    "with open('story.mp3', 'wb') as f:\n",
    "    for chunk in audio:\n",
    "        f.write(chunk)\n",
    "print(\"Audio saved as story.mp3\")"
   ]
  },
  {
   "cell_type": "code",
   "execution_count": null,
   "id": "b6b92e15-184e-4628-a093-bcc52c31e665",
   "metadata": {},
   "outputs": [],
   "source": []
  }
 ],
 "metadata": {
  "kernelspec": {
   "display_name": "Python 3 (ipykernel)",
   "language": "python",
   "name": "python3"
  },
  "language_info": {
   "codemirror_mode": {
    "name": "ipython",
    "version": 3
   },
   "file_extension": ".py",
   "mimetype": "text/x-python",
   "name": "python",
   "nbconvert_exporter": "python",
   "pygments_lexer": "ipython3",
   "version": "3.12.4"
  }
 },
 "nbformat": 4,
 "nbformat_minor": 5
}
